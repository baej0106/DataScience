{
  "nbformat": 4,
  "nbformat_minor": 0,
  "metadata": {
    "colab": {
      "name": "다중선형회귀분석.ipynb",
      "provenance": [],
      "collapsed_sections": [],
      "authorship_tag": "ABX9TyOx5ICm9wMNATjjx1dCEWRx",
      "include_colab_link": true
    },
    "kernelspec": {
      "name": "python3",
      "display_name": "Python 3"
    },
    "language_info": {
      "name": "python"
    }
  },
  "cells": [
    {
      "cell_type": "markdown",
      "metadata": {
        "id": "view-in-github",
        "colab_type": "text"
      },
      "source": [
        "<a href=\"https://colab.research.google.com/github/baej0106/DataScience/blob/main/%EB%8B%A4%EC%A4%91%EC%84%A0%ED%98%95%ED%9A%8C%EA%B7%80%EB%B6%84%EC%84%9D.ipynb\" target=\"_parent\"><img src=\"https://colab.research.google.com/assets/colab-badge.svg\" alt=\"Open In Colab\"/></a>"
      ]
    },
    {
      "cell_type": "markdown",
      "metadata": {
        "id": "I5I3SI6m4dm6"
      },
      "source": [
        "# **선형 회귀분석 실습**"
      ]
    },
    {
      "cell_type": "code",
      "metadata": {
        "id": "MScfWtt54c6N"
      },
      "source": [
        "import os\n",
        "import pandas as pd\n",
        "import numpy as np\n",
        "from sklearn.model_selection import train_test_split\n",
        "from sklearn import metrics\n",
        "import scipy.stats as stats\n",
        "import itertools\n",
        "import time\n",
        "import matplotlib.pyplot as plt\n",
        "import statsmodels.api as sm\n",
        "import seaborn as sns\n",
        "import pylab\n"
      ],
      "execution_count": null,
      "outputs": []
    },
    {
      "cell_type": "code",
      "metadata": {
        "id": "SndFXiUh4cDl"
      },
      "source": [
        "data_path = './drive/MyDrive/Colab Notebooks/python 실습 1_다중선형회귀분석/data/'"
      ],
      "execution_count": null,
      "outputs": []
    },
    {
      "cell_type": "markdown",
      "metadata": {
        "id": "kxBiHGpLQB5t"
      },
      "source": [
        "## **실습1. ram price**"
      ]
    },
    {
      "cell_type": "code",
      "metadata": {
        "id": "Ds7Op38JClcw"
      },
      "source": [
        "ram_prices = pd.read_csv(data_path + 'ram_price.csv')"
      ],
      "execution_count": null,
      "outputs": []
    },
    {
      "cell_type": "code",
      "metadata": {
        "colab": {
          "base_uri": "https://localhost:8080/",
          "height": 297
        },
        "id": "P3vrgQGsDS2h",
        "outputId": "bc74f09a-5cba-4fff-ec8e-d7100cf7c983"
      },
      "source": [
        "ram_prices.describe()"
      ],
      "execution_count": null,
      "outputs": [
        {
          "output_type": "execute_result",
          "data": {
            "text/html": [
              "<div>\n",
              "<style scoped>\n",
              "    .dataframe tbody tr th:only-of-type {\n",
              "        vertical-align: middle;\n",
              "    }\n",
              "\n",
              "    .dataframe tbody tr th {\n",
              "        vertical-align: top;\n",
              "    }\n",
              "\n",
              "    .dataframe thead th {\n",
              "        text-align: right;\n",
              "    }\n",
              "</style>\n",
              "<table border=\"1\" class=\"dataframe\">\n",
              "  <thead>\n",
              "    <tr style=\"text-align: right;\">\n",
              "      <th></th>\n",
              "      <th>Unnamed: 0</th>\n",
              "      <th>date</th>\n",
              "      <th>price</th>\n",
              "    </tr>\n",
              "  </thead>\n",
              "  <tbody>\n",
              "    <tr>\n",
              "      <th>count</th>\n",
              "      <td>333.000000</td>\n",
              "      <td>333.000000</td>\n",
              "      <td>3.330000e+02</td>\n",
              "    </tr>\n",
              "    <tr>\n",
              "      <th>mean</th>\n",
              "      <td>166.000000</td>\n",
              "      <td>1996.878168</td>\n",
              "      <td>1.469755e+06</td>\n",
              "    </tr>\n",
              "    <tr>\n",
              "      <th>std</th>\n",
              "      <td>96.273049</td>\n",
              "      <td>11.026537</td>\n",
              "      <td>2.281991e+07</td>\n",
              "    </tr>\n",
              "    <tr>\n",
              "      <th>min</th>\n",
              "      <td>0.000000</td>\n",
              "      <td>1957.000000</td>\n",
              "      <td>3.700000e-03</td>\n",
              "    </tr>\n",
              "    <tr>\n",
              "      <th>25%</th>\n",
              "      <td>83.000000</td>\n",
              "      <td>1989.670000</td>\n",
              "      <td>1.260000e-01</td>\n",
              "    </tr>\n",
              "    <tr>\n",
              "      <th>50%</th>\n",
              "      <td>166.000000</td>\n",
              "      <td>1996.750000</td>\n",
              "      <td>8.000000e+00</td>\n",
              "    </tr>\n",
              "    <tr>\n",
              "      <th>75%</th>\n",
              "      <td>249.000000</td>\n",
              "      <td>2005.250000</td>\n",
              "      <td>1.330000e+02</td>\n",
              "    </tr>\n",
              "    <tr>\n",
              "      <th>max</th>\n",
              "      <td>332.000000</td>\n",
              "      <td>2015.920000</td>\n",
              "      <td>4.110418e+08</td>\n",
              "    </tr>\n",
              "  </tbody>\n",
              "</table>\n",
              "</div>"
            ],
            "text/plain": [
              "       Unnamed: 0         date         price\n",
              "count  333.000000   333.000000  3.330000e+02\n",
              "mean   166.000000  1996.878168  1.469755e+06\n",
              "std     96.273049    11.026537  2.281991e+07\n",
              "min      0.000000  1957.000000  3.700000e-03\n",
              "25%     83.000000  1989.670000  1.260000e-01\n",
              "50%    166.000000  1996.750000  8.000000e+00\n",
              "75%    249.000000  2005.250000  1.330000e+02\n",
              "max    332.000000  2015.920000  4.110418e+08"
            ]
          },
          "metadata": {
            "tags": []
          },
          "execution_count": 23
        }
      ]
    },
    {
      "cell_type": "markdown",
      "metadata": {
        "id": "kxp4hvy5E-F6"
      },
      "source": [
        "데이터 구조\n",
        "* 1957년부터 2015년도까지의 ram의 가격 변화\n",
        "* 관측치 개수: 333개\n",
        "* 변수개수: 독립변수 1개 (year), 반응변수 1개 (price)\n"
      ]
    },
    {
      "cell_type": "code",
      "metadata": {
        "colab": {
          "base_uri": "https://localhost:8080/",
          "height": 307
        },
        "id": "5Wb7h6r-FuO8",
        "outputId": "563aaba2-ea83-4ef4-8842-22bb04cf1642"
      },
      "source": [
        "plt.plot(ram_prices.date, ram_prices.price) # 선형 모델이 아님, 선형회귀를 할 수 없기에 log scale을 적용한다.\n",
        "plt.xlabel(\"Year\")\n",
        "plt.ylabel(\"Price ($/Mbyte)\")"
      ],
      "execution_count": null,
      "outputs": [
        {
          "output_type": "execute_result",
          "data": {
            "text/plain": [
              "Text(0, 0.5, 'Price ($/Mbyte)')"
            ]
          },
          "metadata": {
            "tags": []
          },
          "execution_count": 29
        },
        {
          "output_type": "display_data",
          "data": {
            "image/png": "[encoded data removed]",
            "text/plain": [
              "<Figure size 432x288 with 1 Axes>"
            ]
          },
          "metadata": {
            "tags": [],
            "needs_background": "light"
          }
        }
      ]
    },
    {
      "cell_type": "code",
      "metadata": {
        "colab": {
          "base_uri": "https://localhost:8080/",
          "height": 299
        },
        "id": "l3FgFT0gDdrP",
        "outputId": "896a3958-4843-46f2-8f18-f221af9a83ee"
      },
      "source": [
        "plt.semilogy(ram_prices.date, ram_prices.price) # log scale plot\n",
        "plt.xlabel(\"Year\")\n",
        "plt.ylabel(\"Price ($/Mbyte)\")"
      ],
      "execution_count": null,
      "outputs": [
        {
          "output_type": "execute_result",
          "data": {
            "text/plain": [
              "Text(0, 0.5, 'Price ($/Mbyte)')"
            ]
          },
          "metadata": {
            "tags": []
          },
          "execution_count": 27
        },
        {
          "output_type": "display_data",
          "data": {
            "image/png": "[encoded data removed]",
            "text/plain": [
              "<Figure size 432x288 with 1 Axes>"
            ]
          },
          "metadata": {
            "tags": [],
            "needs_background": "light"
          }
        }
      ]
    },
    {
      "cell_type": "code",
      "metadata": {
        "id": "RpUAIV0pHfF0"
      },
      "source": [
        "from sklearn.linear_model import LinearRegression"
      ],
      "execution_count": null,
      "outputs": []
    },
    {
      "cell_type": "markdown",
      "metadata": {
        "id": "lBIZYwEnMJ2n"
      },
      "source": [
        "#### **[Parameters]**\n",
        "\n",
        "**fit_intercept** : boolean, optional, default True\n",
        "whether to calculate the intercept for this model. If set to False, no intercept will be used in calculations (e.g. data is expected to be already centered).\n",
        "\n",
        "**normalize** : boolean, optional, default False\n",
        "This parameter is ignored when fit_intercept is set to False. If True, the regressors X will be normalized before regression by subtracting the mean and dividing by the l2-norm. If you wish to standardize, please use sklearn.preprocessing.StandardScaler before calling fit on an estimator with normalize=False.\n",
        "\n",
        "**copy_X** : boolean, optional, default True\n",
        "If True, X will be copied; else, it may be overwritten.\n",
        "\n",
        "**n_jobs** : int or None, optional (default=None)\n",
        "The number of jobs to use for the computation. This will only provide speedup for n_targets > 1 and sufficient large problems. None means 1 unless in a joblib.parallel_backend context. -1 means using all processors. See Glossary for more details."
      ]
    },
    {
      "cell_type": "markdown",
      "metadata": {
        "id": "S0hf4DgFMLCE"
      },
      "source": [
        "#### **[Attributes]**\n",
        "\n",
        "**coef_** : array, shape (n_features, ) or (n_targets, n_features)\n",
        "Estimated coefficients for the linear regression problem. If multiple targets are passed during the fit (y 2D), this is a 2D array of shape (n_targets, n_features), while if only one target is passed, this is a 1D array of length n_features.\n",
        "\n",
        "**intercept_** : array Independent term in the linear model."
      ]
    },
    {
      "cell_type": "code",
      "metadata": {
        "colab": {
          "base_uri": "https://localhost:8080/"
        },
        "id": "IIiv3B_bMJjW",
        "outputId": "0e273e1c-c3df-4d10-a0a7-ca090dd22d2f"
      },
      "source": [
        "# train data와 test data 나누기\n",
        "\n",
        "data_train = ram_prices[ram_prices.date < 2000]\n",
        "data_test = ram_prices[ram_prices.date >= 2000]\n",
        "\n",
        "X_train = data_train.date[:, np.newaxis]\n",
        "y_train = np.log(data_train.price) #log scale로 만들어주기"
      ],
      "execution_count": null,
      "outputs": [
        {
          "output_type": "stream",
          "text": [
            "/usr/local/lib/python3.7/dist-packages/ipykernel_launcher.py:6: FutureWarning: Support for multi-dimensional indexing (e.g. `obj[:, None]`) is deprecated and will be removed in a future version.  Convert to a numpy array before indexing instead.\n",
            "  \n"
          ],
          "name": "stderr"
        }
      ]
    },
    {
      "cell_type": "code",
      "metadata": {
        "id": "tD_uxAGbNngd"
      },
      "source": [
        "linear_reg = LinearRegression().fit(X_train, y_train)"
      ],
      "execution_count": null,
      "outputs": []
    },
    {
      "cell_type": "code",
      "metadata": {
        "colab": {
          "base_uri": "https://localhost:8080/"
        },
        "id": "aoDHvqguKZbC",
        "outputId": "edd4e08c-7e33-4102-ba45-bedaf9ac9a55"
      },
      "source": [
        "# test data는 전체 기간으로 하기\n",
        "X_all = ram_prices.date[:, np.newaxis]\n",
        "\n",
        "# 예측하기\n",
        "pred_lr = linear_reg.predict(X_all)\n",
        "\n",
        "# 예측한 값의 로그 스케일을 되돌림\n",
        "price_lr = np.exp(pred_lr)"
      ],
      "execution_count": null,
      "outputs": [
        {
          "output_type": "stream",
          "text": [
            "/usr/local/lib/python3.7/dist-packages/ipykernel_launcher.py:2: FutureWarning: Support for multi-dimensional indexing (e.g. `obj[:, None]`) is deprecated and will be removed in a future version.  Convert to a numpy array before indexing instead.\n",
            "  \n"
          ],
          "name": "stderr"
        }
      ]
    },
    {
      "cell_type": "code",
      "metadata": {
        "colab": {
          "base_uri": "https://localhost:8080/",
          "height": 282
        },
        "id": "HVa0wOTBNBx4",
        "outputId": "5f07bb60-34c5-4876-aada-36ee8ae6d460"
      },
      "source": [
        "plt.semilogy(data_train.date, data_train.price, label = \"Training Data\")\n",
        "plt.semilogy(data_test.date, data_test.price, label = \"Test Data\")\n",
        "plt.semilogy(ram_prices.date, price_lr, label = 'Linear Regression Prediction')\n",
        "plt.legend()"
      ],
      "execution_count": null,
      "outputs": [
        {
          "output_type": "execute_result",
          "data": {
            "text/plain": [
              "<matplotlib.legend.Legend at 0x7f327f70b290>"
            ]
          },
          "metadata": {
            "tags": []
          },
          "execution_count": 44
        },
        {
          "output_type": "display_data",
          "data": {
            "image/png": "[encoded data removed]",
            "text/plain": [
              "<Figure size 432x288 with 1 Axes>"
            ]
          },
          "metadata": {
            "tags": [],
            "needs_background": "light"
          }
        }
      ]
    },
    {
      "cell_type": "code",
      "metadata": {
        "colab": {
          "base_uri": "https://localhost:8080/"
        },
        "id": "AuPRCMFGOyHr",
        "outputId": "e31ab018-1bc8-4b3c-f67d-b4df93f8b345"
      },
      "source": [
        "#회귀계수 확인, 연도에 따른 회귀계수 (로그변환 값)\n",
        "linear_reg.coef_"
      ],
      "execution_count": null,
      "outputs": [
        {
          "output_type": "execute_result",
          "data": {
            "text/plain": [
              "array([-0.42880156])"
            ]
          },
          "metadata": {
            "tags": []
          },
          "execution_count": 45
        }
      ]
    },
    {
      "cell_type": "markdown",
      "metadata": {
        "id": "GlGwcwi3PIdh"
      },
      "source": [
        "#### **LinearRegression Methods**\n",
        "**fit(X, y[, sample weight])** : fit linear model\n",
        "\n",
        "**get_params([deep])** : get parameters for this estimator\n",
        "\n",
        "**predict(X)** : predict using the linear model\n",
        "\n",
        "**score(X, y[, sample_weight])** : returns the coefficient of determination of the prediction $$R^2$$"
      ]
    },
    {
      "cell_type": "markdown",
      "metadata": {
        "id": "FUjLNbXraeHV"
      },
      "source": [
        "## **실습2 : California Housing Data**"
      ]
    },
    {
      "cell_type": "code",
      "metadata": {
        "id": "bXQJB0P3behO"
      },
      "source": [
        "from IPython.display import display, HTML\n",
        "\n",
        "#데이터 전처리 패키지\n",
        "import numpy as np\n",
        "import pandas as pd\n",
        "\n",
        "#기계학습 모델 구축 및 성능 평가 패키지\n",
        "import statsmodels.api as sm\n",
        "import statsmodels.formula.api as smf\n",
        "import scipy as sp\n",
        "import scipy.stats as stats\n",
        "from sklearn.datasets import fetch_california_housing\n",
        "from sklearn.metrics import mean_squared_error, r2_score, mean_absolute_error\n",
        "from sklearn.model_selection import train_test_split\n",
        "\n",
        "#데이터 시각화 패키지\n",
        "import seaborn as sns\n",
        "import matplotlib.pyplot as plt\n",
        "import matplotlib.font_manager as fm\n",
        "\n",
        "#한글 폰트 설정\n",
        "plt.rc('font', family='Gothic')\n"
      ],
      "execution_count": null,
      "outputs": []
    },
    {
      "cell_type": "code",
      "metadata": {
        "colab": {
          "base_uri": "https://localhost:8080/"
        },
        "id": "WBUnkMEKPhMa",
        "outputId": "73891513-4649-4997-fac6-d2a2829d91b2"
      },
      "source": [
        "california = fetch_california_housing()\n",
        "print(california.DESCR)"
      ],
      "execution_count": null,
      "outputs": [
        {
          "output_type": "stream",
          "text": [
            ".. _california_housing_dataset:\n",
            "\n",
            "California Housing dataset\n",
            "--------------------------\n",
            "\n",
            "**Data Set Characteristics:**\n",
            "\n",
            "    :Number of Instances: 20640\n",
            "\n",
            "    :Number of Attributes: 8 numeric, predictive attributes and the target\n",
            "\n",
            "    :Attribute Information:\n",
            "        - MedInc        median income in block\n",
            "        - HouseAge      median house age in block\n",
            "        - AveRooms      average number of rooms\n",
            "        - AveBedrms     average number of bedrooms\n",
            "        - Population    block population\n",
            "        - AveOccup      average house occupancy\n",
            "        - Latitude      house block latitude\n",
            "        - Longitude     house block longitude\n",
            "\n",
            "    :Missing Attribute Values: None\n",
            "\n",
            "This dataset was obtained from the StatLib repository.\n",
            "http://lib.stat.cmu.edu/datasets/\n",
            "\n",
            "The target variable is the median house value for California districts.\n",
            "\n",
            "This dataset was derived from the 1990 U.S. census, using one row per census\n",
            "block group. A block group is the smallest geographical unit for which the U.S.\n",
            "Census Bureau publishes sample data (a block group typically has a population\n",
            "of 600 to 3,000 people).\n",
            "\n",
            "It can be downloaded/loaded using the\n",
            ":func:`sklearn.datasets.fetch_california_housing` function.\n",
            "\n",
            ".. topic:: References\n",
            "\n",
            "    - Pace, R. Kelley and Ronald Barry, Sparse Spatial Autoregressions,\n",
            "      Statistics and Probability Letters, 33 (1997) 291-297\n",
            "\n"
          ],
          "name": "stdout"
        }
      ]
    },
    {
      "cell_type": "code",
      "metadata": {
        "colab": {
          "base_uri": "https://localhost:8080/"
        },
        "id": "BPVI4ztWa6He",
        "outputId": "c9fec355-6769-461b-8bef-c3e726e74fa4"
      },
      "source": [
        ""
      ],
      "execution_count": null,
      "outputs": [
        {
          "output_type": "stream",
          "text": [
            ".. _california_housing_dataset:\n",
            "\n",
            "California Housing dataset\n",
            "--------------------------\n",
            "\n",
            "**Data Set Characteristics:**\n",
            "\n",
            "    :Number of Instances: 20640\n",
            "\n",
            "    :Number of Attributes: 8 numeric, predictive attributes and the target\n",
            "\n",
            "    :Attribute Information:\n",
            "        - MedInc        median income in block\n",
            "        - HouseAge      median house age in block\n",
            "        - AveRooms      average number of rooms\n",
            "        - AveBedrms     average number of bedrooms\n",
            "        - Population    block population\n",
            "        - AveOccup      average house occupancy\n",
            "        - Latitude      house block latitude\n",
            "        - Longitude     house block longitude\n",
            "\n",
            "    :Missing Attribute Values: None\n",
            "\n",
            "This dataset was obtained from the StatLib repository.\n",
            "http://lib.stat.cmu.edu/datasets/\n",
            "\n",
            "The target variable is the median house value for California districts.\n",
            "\n",
            "This dataset was derived from the 1990 U.S. census, using one row per census\n",
            "block group. A block group is the smallest geographical unit for which the U.S.\n",
            "Census Bureau publishes sample data (a block group typically has a population\n",
            "of 600 to 3,000 people).\n",
            "\n",
            "It can be downloaded/loaded using the\n",
            ":func:`sklearn.datasets.fetch_california_housing` function.\n",
            "\n",
            ".. topic:: References\n",
            "\n",
            "    - Pace, R. Kelley and Ronald Barry, Sparse Spatial Autoregressions,\n",
            "      Statistics and Probability Letters, 33 (1997) 291-297\n",
            "\n"
          ],
          "name": "stdout"
        }
      ]
    },
    {
      "cell_type": "code",
      "metadata": {
        "id": "N0z7ZIlxc4vm"
      },
      "source": [
        "X = pd.DataFrame(california.data, columns = california.feature_names)\n",
        "y = pd.DataFrame(california.target, columns = ['House Value'])"
      ],
      "execution_count": null,
      "outputs": []
    },
    {
      "cell_type": "code",
      "metadata": {
        "colab": {
          "base_uri": "https://localhost:8080/",
          "height": 317
        },
        "id": "A9Wln5MBdkoq",
        "outputId": "26fa4c93-a333-49f7-8a37-d0ffe806e088"
      },
      "source": [
        "X.describe()"
      ],
      "execution_count": null,
      "outputs": [
        {
          "output_type": "execute_result",
          "data": {
            "text/html": [
              "<div>\n",
              "<style scoped>\n",
              "    .dataframe tbody tr th:only-of-type {\n",
              "        vertical-align: middle;\n",
              "    }\n",
              "\n",
              "    .dataframe tbody tr th {\n",
              "        vertical-align: top;\n",
              "    }\n",
              "\n",
              "    .dataframe thead th {\n",
              "        text-align: right;\n",
              "    }\n",
              "</style>\n",
              "<table border=\"1\" class=\"dataframe\">\n",
              "  <thead>\n",
              "    <tr style=\"text-align: right;\">\n",
              "      <th></th>\n",
              "      <th>MedInc</th>\n",
              "      <th>HouseAge</th>\n",
              "      <th>AveRooms</th>\n",
              "      <th>AveBedrms</th>\n",
              "      <th>Population</th>\n",
              "      <th>AveOccup</th>\n",
              "      <th>Latitude</th>\n",
              "      <th>Longitude</th>\n",
              "    </tr>\n",
              "  </thead>\n",
              "  <tbody>\n",
              "    <tr>\n",
              "      <th>count</th>\n",
              "      <td>20640.000000</td>\n",
              "      <td>20640.000000</td>\n",
              "      <td>20640.000000</td>\n",
              "      <td>20640.000000</td>\n",
              "      <td>20640.000000</td>\n",
              "      <td>20640.000000</td>\n",
              "      <td>20640.000000</td>\n",
              "      <td>20640.000000</td>\n",
              "    </tr>\n",
              "    <tr>\n",
              "      <th>mean</th>\n",
              "      <td>3.870671</td>\n",
              "      <td>28.639486</td>\n",
              "      <td>5.429000</td>\n",
              "      <td>1.096675</td>\n",
              "      <td>1425.476744</td>\n",
              "      <td>3.070655</td>\n",
              "      <td>35.631861</td>\n",
              "      <td>-119.569704</td>\n",
              "    </tr>\n",
              "    <tr>\n",
              "      <th>std</th>\n",
              "      <td>1.899822</td>\n",
              "      <td>12.585558</td>\n",
              "      <td>2.474173</td>\n",
              "      <td>0.473911</td>\n",
              "      <td>1132.462122</td>\n",
              "      <td>10.386050</td>\n",
              "      <td>2.135952</td>\n",
              "      <td>2.003532</td>\n",
              "    </tr>\n",
              "    <tr>\n",
              "      <th>min</th>\n",
              "      <td>0.499900</td>\n",
              "      <td>1.000000</td>\n",
              "      <td>0.846154</td>\n",
              "      <td>0.333333</td>\n",
              "      <td>3.000000</td>\n",
              "      <td>0.692308</td>\n",
              "      <td>32.540000</td>\n",
              "      <td>-124.350000</td>\n",
              "    </tr>\n",
              "    <tr>\n",
              "      <th>25%</th>\n",
              "      <td>2.563400</td>\n",
              "      <td>18.000000</td>\n",
              "      <td>4.440716</td>\n",
              "      <td>1.006079</td>\n",
              "      <td>787.000000</td>\n",
              "      <td>2.429741</td>\n",
              "      <td>33.930000</td>\n",
              "      <td>-121.800000</td>\n",
              "    </tr>\n",
              "    <tr>\n",
              "      <th>50%</th>\n",
              "      <td>3.534800</td>\n",
              "      <td>29.000000</td>\n",
              "      <td>5.229129</td>\n",
              "      <td>1.048780</td>\n",
              "      <td>1166.000000</td>\n",
              "      <td>2.818116</td>\n",
              "      <td>34.260000</td>\n",
              "      <td>-118.490000</td>\n",
              "    </tr>\n",
              "    <tr>\n",
              "      <th>75%</th>\n",
              "      <td>4.743250</td>\n",
              "      <td>37.000000</td>\n",
              "      <td>6.052381</td>\n",
              "      <td>1.099526</td>\n",
              "      <td>1725.000000</td>\n",
              "      <td>3.282261</td>\n",
              "      <td>37.710000</td>\n",
              "      <td>-118.010000</td>\n",
              "    </tr>\n",
              "    <tr>\n",
              "      <th>max</th>\n",
              "      <td>15.000100</td>\n",
              "      <td>52.000000</td>\n",
              "      <td>141.909091</td>\n",
              "      <td>34.066667</td>\n",
              "      <td>35682.000000</td>\n",
              "      <td>1243.333333</td>\n",
              "      <td>41.950000</td>\n",
              "      <td>-114.310000</td>\n",
              "    </tr>\n",
              "  </tbody>\n",
              "</table>\n",
              "</div>"
            ],
            "text/plain": [
              "             MedInc      HouseAge  ...      Latitude     Longitude\n",
              "count  20640.000000  20640.000000  ...  20640.000000  20640.000000\n",
              "mean       3.870671     28.639486  ...     35.631861   -119.569704\n",
              "std        1.899822     12.585558  ...      2.135952      2.003532\n",
              "min        0.499900      1.000000  ...     32.540000   -124.350000\n",
              "25%        2.563400     18.000000  ...     33.930000   -121.800000\n",
              "50%        3.534800     29.000000  ...     34.260000   -118.490000\n",
              "75%        4.743250     37.000000  ...     37.710000   -118.010000\n",
              "max       15.000100     52.000000  ...     41.950000   -114.310000\n",
              "\n",
              "[8 rows x 8 columns]"
            ]
          },
          "metadata": {
            "tags": []
          },
          "execution_count": 9
        }
      ]
    },
    {
      "cell_type": "code",
      "metadata": {
        "colab": {
          "base_uri": "https://localhost:8080/",
          "height": 297
        },
        "id": "jqm3W-3EdndS",
        "outputId": "3e64bab5-8185-42fe-80cf-6801fddbb31d"
      },
      "source": [
        "y.describe()"
      ],
      "execution_count": null,
      "outputs": [
        {
          "output_type": "execute_result",
          "data": {
            "text/html": [
              "<div>\n",
              "<style scoped>\n",
              "    .dataframe tbody tr th:only-of-type {\n",
              "        vertical-align: middle;\n",
              "    }\n",
              "\n",
              "    .dataframe tbody tr th {\n",
              "        vertical-align: top;\n",
              "    }\n",
              "\n",
              "    .dataframe thead th {\n",
              "        text-align: right;\n",
              "    }\n",
              "</style>\n",
              "<table border=\"1\" class=\"dataframe\">\n",
              "  <thead>\n",
              "    <tr style=\"text-align: right;\">\n",
              "      <th></th>\n",
              "      <th>House Value</th>\n",
              "    </tr>\n",
              "  </thead>\n",
              "  <tbody>\n",
              "    <tr>\n",
              "      <th>count</th>\n",
              "      <td>20640.000000</td>\n",
              "    </tr>\n",
              "    <tr>\n",
              "      <th>mean</th>\n",
              "      <td>2.068558</td>\n",
              "    </tr>\n",
              "    <tr>\n",
              "      <th>std</th>\n",
              "      <td>1.153956</td>\n",
              "    </tr>\n",
              "    <tr>\n",
              "      <th>min</th>\n",
              "      <td>0.149990</td>\n",
              "    </tr>\n",
              "    <tr>\n",
              "      <th>25%</th>\n",
              "      <td>1.196000</td>\n",
              "    </tr>\n",
              "    <tr>\n",
              "      <th>50%</th>\n",
              "      <td>1.797000</td>\n",
              "    </tr>\n",
              "    <tr>\n",
              "      <th>75%</th>\n",
              "      <td>2.647250</td>\n",
              "    </tr>\n",
              "    <tr>\n",
              "      <th>max</th>\n",
              "      <td>5.000010</td>\n",
              "    </tr>\n",
              "  </tbody>\n",
              "</table>\n",
              "</div>"
            ],
            "text/plain": [
              "        House Value\n",
              "count  20640.000000\n",
              "mean       2.068558\n",
              "std        1.153956\n",
              "min        0.149990\n",
              "25%        1.196000\n",
              "50%        1.797000\n",
              "75%        2.647250\n",
              "max        5.000010"
            ]
          },
          "metadata": {
            "tags": []
          },
          "execution_count": 11
        }
      ]
    },
    {
      "cell_type": "markdown",
      "metadata": {
        "id": "2pCNYRYhd0Jf"
      },
      "source": [
        "#### 데이터 구조  \n",
        "- 데이터: 1990년 캘리포니아의 각 행정 구역 내 주택 가격  \n",
        "- 관측치 개수: 20640개\n",
        "- 변수 개수: 설명변수 8개 / 반응변수 1개\n",
        "\n",
        "#### 설명 변수(예측값을 설명할 수 있는 변수)      \n",
        "- MedInc : 행정 구역 내 소득의 중앙값\n",
        "- HouseAge : 행정 구역 내 주택 연식의 중앙값\n",
        "- AveRooms : 평균 방 갯수\n",
        "- AveBedrms : 평균 침실 갯수\n",
        "- Population : 행정 구역 내 인구 수\n",
        "- AveOccup : 평균 자가 비율\n",
        "- Latitude : 해당 행정 구역의 위도\n",
        "- Longitude : 해당 행정 구역의 경도 \n",
        "\n",
        "#### 반응 변수(예측하고자 하는 값)\n",
        "- House Value: 주택가격"
      ]
    },
    {
      "cell_type": "markdown",
      "metadata": {
        "id": "OzOsX4DBd9N2"
      },
      "source": [
        "#### 데이터 전처리\n"
      ]
    },
    {
      "cell_type": "code",
      "metadata": {
        "id": "t6e1ePU8dssK"
      },
      "source": [
        "data = pd.concat([X,y], axis = 1)"
      ],
      "execution_count": null,
      "outputs": []
    },
    {
      "cell_type": "code",
      "metadata": {
        "colab": {
          "base_uri": "https://localhost:8080/",
          "height": 204
        },
        "id": "D6RK-oNJeF0p",
        "outputId": "c5678cfa-ad3e-476e-e314-27a2c4bbce25"
      },
      "source": [
        "data.head()"
      ],
      "execution_count": null,
      "outputs": [
        {
          "output_type": "execute_result",
          "data": {
            "text/html": [
              "<div>\n",
              "<style scoped>\n",
              "    .dataframe tbody tr th:only-of-type {\n",
              "        vertical-align: middle;\n",
              "    }\n",
              "\n",
              "    .dataframe tbody tr th {\n",
              "        vertical-align: top;\n",
              "    }\n",
              "\n",
              "    .dataframe thead th {\n",
              "        text-align: right;\n",
              "    }\n",
              "</style>\n",
              "<table border=\"1\" class=\"dataframe\">\n",
              "  <thead>\n",
              "    <tr style=\"text-align: right;\">\n",
              "      <th></th>\n",
              "      <th>MedInc</th>\n",
              "      <th>HouseAge</th>\n",
              "      <th>AveRooms</th>\n",
              "      <th>AveBedrms</th>\n",
              "      <th>Population</th>\n",
              "      <th>AveOccup</th>\n",
              "      <th>Latitude</th>\n",
              "      <th>Longitude</th>\n",
              "      <th>House Value</th>\n",
              "    </tr>\n",
              "  </thead>\n",
              "  <tbody>\n",
              "    <tr>\n",
              "      <th>0</th>\n",
              "      <td>8.3252</td>\n",
              "      <td>41.0</td>\n",
              "      <td>6.984127</td>\n",
              "      <td>1.023810</td>\n",
              "      <td>322.0</td>\n",
              "      <td>2.555556</td>\n",
              "      <td>37.88</td>\n",
              "      <td>-122.23</td>\n",
              "      <td>4.526</td>\n",
              "    </tr>\n",
              "    <tr>\n",
              "      <th>1</th>\n",
              "      <td>8.3014</td>\n",
              "      <td>21.0</td>\n",
              "      <td>6.238137</td>\n",
              "      <td>0.971880</td>\n",
              "      <td>2401.0</td>\n",
              "      <td>2.109842</td>\n",
              "      <td>37.86</td>\n",
              "      <td>-122.22</td>\n",
              "      <td>3.585</td>\n",
              "    </tr>\n",
              "    <tr>\n",
              "      <th>2</th>\n",
              "      <td>7.2574</td>\n",
              "      <td>52.0</td>\n",
              "      <td>8.288136</td>\n",
              "      <td>1.073446</td>\n",
              "      <td>496.0</td>\n",
              "      <td>2.802260</td>\n",
              "      <td>37.85</td>\n",
              "      <td>-122.24</td>\n",
              "      <td>3.521</td>\n",
              "    </tr>\n",
              "    <tr>\n",
              "      <th>3</th>\n",
              "      <td>5.6431</td>\n",
              "      <td>52.0</td>\n",
              "      <td>5.817352</td>\n",
              "      <td>1.073059</td>\n",
              "      <td>558.0</td>\n",
              "      <td>2.547945</td>\n",
              "      <td>37.85</td>\n",
              "      <td>-122.25</td>\n",
              "      <td>3.413</td>\n",
              "    </tr>\n",
              "    <tr>\n",
              "      <th>4</th>\n",
              "      <td>3.8462</td>\n",
              "      <td>52.0</td>\n",
              "      <td>6.281853</td>\n",
              "      <td>1.081081</td>\n",
              "      <td>565.0</td>\n",
              "      <td>2.181467</td>\n",
              "      <td>37.85</td>\n",
              "      <td>-122.25</td>\n",
              "      <td>3.422</td>\n",
              "    </tr>\n",
              "  </tbody>\n",
              "</table>\n",
              "</div>"
            ],
            "text/plain": [
              "   MedInc  HouseAge  AveRooms  ...  Latitude  Longitude  House Value\n",
              "0  8.3252      41.0  6.984127  ...     37.88    -122.23        4.526\n",
              "1  8.3014      21.0  6.238137  ...     37.86    -122.22        3.585\n",
              "2  7.2574      52.0  8.288136  ...     37.85    -122.24        3.521\n",
              "3  5.6431      52.0  5.817352  ...     37.85    -122.25        3.413\n",
              "4  3.8462      52.0  6.281853  ...     37.85    -122.25        3.422\n",
              "\n",
              "[5 rows x 9 columns]"
            ]
          },
          "metadata": {
            "tags": []
          },
          "execution_count": 13
        }
      ]
    },
    {
      "cell_type": "code",
      "metadata": {
        "id": "9pq9SvzoeG4Q"
      },
      "source": [
        "train_data, test_data = train_test_split(data, test_size = 0.3, random_state = 20190625)"
      ],
      "execution_count": null,
      "outputs": []
    },
    {
      "cell_type": "code",
      "metadata": {
        "colab": {
          "base_uri": "https://localhost:8080/"
        },
        "id": "Z6b9L1Wcey3j",
        "outputId": "fa39b509-ff40-4e60-fa7c-0c00d309f064"
      },
      "source": [
        "train_data.shape"
      ],
      "execution_count": null,
      "outputs": [
        {
          "output_type": "execute_result",
          "data": {
            "text/plain": [
              "(14448, 9)"
            ]
          },
          "metadata": {
            "tags": []
          },
          "execution_count": 21
        }
      ]
    },
    {
      "cell_type": "code",
      "metadata": {
        "colab": {
          "base_uri": "https://localhost:8080/"
        },
        "id": "CLKURfTRe2G_",
        "outputId": "8eb48f74-5f17-48a4-9ce9-5d4778de2a43"
      },
      "source": [
        "test_data.shape"
      ],
      "execution_count": null,
      "outputs": [
        {
          "output_type": "execute_result",
          "data": {
            "text/plain": [
              "(6192, 9)"
            ]
          },
          "metadata": {
            "tags": []
          },
          "execution_count": 17
        }
      ]
    },
    {
      "cell_type": "markdown",
      "metadata": {
        "id": "QQvcvZGWfDE4"
      },
      "source": [
        "####  모델링\n",
        "* OLS: 가장 기본적인 결정론적 선형 회귀 방법으로 잔차제곱합(RSS)를 최소화하는 가중치를 구하는 방법\n",
        "* 모델 선언: model = sm.OLS(Y데이터, X데이터)\n",
        "* 모델 학습: model_trained = model.fit()"
      ]
    },
    {
      "cell_type": "code",
      "metadata": {
        "id": "5sBk0sThe3dM"
      },
      "source": [
        "lm = sm.OLS(train_data['House Value'], train_data.drop (['House Value'], axis = 1))"
      ],
      "execution_count": null,
      "outputs": []
    },
    {
      "cell_type": "code",
      "metadata": {
        "id": "Teo334XjfCP5"
      },
      "source": [
        "lm_trained = lm.fit()"
      ],
      "execution_count": null,
      "outputs": []
    },
    {
      "cell_type": "markdown",
      "metadata": {
        "id": "lXaU4NSUl8DC"
      },
      "source": [
        "#### 모델 해석\n"
      ]
    },
    {
      "cell_type": "code",
      "metadata": {
        "colab": {
          "base_uri": "https://localhost:8080/",
          "height": 604
        },
        "id": "gmzLPDCDl6h1",
        "outputId": "2db261f4-df12-4f31-da0d-8dae01d6e8dc"
      },
      "source": [
        "display(lm_trained.summary())"
      ],
      "execution_count": null,
      "outputs": [
        {
          "output_type": "display_data",
          "data": {
            "text/html": [
              "<table class=\"simpletable\">\n",
              "<caption>OLS Regression Results</caption>\n",
              "<tr>\n",
              "  <th>Dep. Variable:</th>       <td>House Value</td>   <th>  R-squared (uncentered):</th>      <td>   0.893</td> \n",
              "</tr>\n",
              "<tr>\n",
              "  <th>Model:</th>                   <td>OLS</td>       <th>  Adj. R-squared (uncentered):</th> <td>   0.893</td> \n",
              "</tr>\n",
              "<tr>\n",
              "  <th>Method:</th>             <td>Least Squares</td>  <th>  F-statistic:       </th>          <td>1.506e+04</td>\n",
              "</tr>\n",
              "<tr>\n",
              "  <th>Date:</th>             <td>Mon, 16 Aug 2021</td> <th>  Prob (F-statistic):</th>           <td>  0.00</td>  \n",
              "</tr>\n",
              "<tr>\n",
              "  <th>Time:</th>                 <td>06:14:22</td>     <th>  Log-Likelihood:    </th>          <td> -16809.</td> \n",
              "</tr>\n",
              "<tr>\n",
              "  <th>No. Observations:</th>      <td> 14448</td>      <th>  AIC:               </th>          <td>3.363e+04</td>\n",
              "</tr>\n",
              "<tr>\n",
              "  <th>Df Residuals:</th>          <td> 14440</td>      <th>  BIC:               </th>          <td>3.369e+04</td>\n",
              "</tr>\n",
              "<tr>\n",
              "  <th>Df Model:</th>              <td>     8</td>      <th>                     </th>              <td> </td>    \n",
              "</tr>\n",
              "<tr>\n",
              "  <th>Covariance Type:</th>      <td>nonrobust</td>    <th>                     </th>              <td> </td>    \n",
              "</tr>\n",
              "</table>\n",
              "<table class=\"simpletable\">\n",
              "<tr>\n",
              "       <td></td>         <th>coef</th>     <th>std err</th>      <th>t</th>      <th>P>|t|</th>  <th>[0.025</th>    <th>0.975]</th>  \n",
              "</tr>\n",
              "<tr>\n",
              "  <th>MedInc</th>     <td>    0.5071</td> <td>    0.005</td> <td>  101.645</td> <td> 0.000</td> <td>    0.497</td> <td>    0.517</td>\n",
              "</tr>\n",
              "<tr>\n",
              "  <th>HouseAge</th>   <td>    0.0164</td> <td>    0.001</td> <td>   29.841</td> <td> 0.000</td> <td>    0.015</td> <td>    0.017</td>\n",
              "</tr>\n",
              "<tr>\n",
              "  <th>AveRooms</th>   <td>   -0.1721</td> <td>    0.007</td> <td>  -23.757</td> <td> 0.000</td> <td>   -0.186</td> <td>   -0.158</td>\n",
              "</tr>\n",
              "<tr>\n",
              "  <th>AveBedrms</th>  <td>    0.8081</td> <td>    0.035</td> <td>   23.416</td> <td> 0.000</td> <td>    0.740</td> <td>    0.876</td>\n",
              "</tr>\n",
              "<tr>\n",
              "  <th>Population</th> <td>  1.48e-05</td> <td> 6.12e-06</td> <td>    2.418</td> <td> 0.016</td> <td>  2.8e-06</td> <td> 2.68e-05</td>\n",
              "</tr>\n",
              "<tr>\n",
              "  <th>AveOccup</th>   <td>   -0.0059</td> <td>    0.001</td> <td>   -5.963</td> <td> 0.000</td> <td>   -0.008</td> <td>   -0.004</td>\n",
              "</tr>\n",
              "<tr>\n",
              "  <th>Latitude</th>   <td>   -0.0633</td> <td>    0.004</td> <td>  -14.867</td> <td> 0.000</td> <td>   -0.072</td> <td>   -0.055</td>\n",
              "</tr>\n",
              "<tr>\n",
              "  <th>Longitude</th>  <td>   -0.0162</td> <td>    0.001</td> <td>  -11.987</td> <td> 0.000</td> <td>   -0.019</td> <td>   -0.014</td>\n",
              "</tr>\n",
              "</table>\n",
              "<table class=\"simpletable\">\n",
              "<tr>\n",
              "  <th>Omnibus:</th>       <td>2967.936</td> <th>  Durbin-Watson:     </th> <td>   2.008</td> \n",
              "</tr>\n",
              "<tr>\n",
              "  <th>Prob(Omnibus):</th>  <td> 0.000</td>  <th>  Jarque-Bera (JB):  </th> <td>10128.918</td>\n",
              "</tr>\n",
              "<tr>\n",
              "  <th>Skew:</th>           <td> 1.024</td>  <th>  Prob(JB):          </th> <td>    0.00</td> \n",
              "</tr>\n",
              "<tr>\n",
              "  <th>Kurtosis:</th>       <td> 6.554</td>  <th>  Cond. No.          </th> <td>9.92e+03</td> \n",
              "</tr>\n",
              "</table><br/><br/>Warnings:<br/>[1] Standard Errors assume that the covariance matrix of the errors is correctly specified.<br/>[2] The condition number is large, 9.92e+03. This might indicate that there are<br/>strong multicollinearity or other numerical problems."
            ],
            "text/plain": [
              "<class 'statsmodels.iolib.summary.Summary'>\n",
              "\"\"\"\n",
              "                                 OLS Regression Results                                \n",
              "=======================================================================================\n",
              "Dep. Variable:            House Value   R-squared (uncentered):                   0.893\n",
              "Model:                            OLS   Adj. R-squared (uncentered):              0.893\n",
              "Method:                 Least Squares   F-statistic:                          1.506e+04\n",
              "Date:                Mon, 16 Aug 2021   Prob (F-statistic):                        0.00\n",
              "Time:                        06:14:22   Log-Likelihood:                         -16809.\n",
              "No. Observations:               14448   AIC:                                  3.363e+04\n",
              "Df Residuals:                   14440   BIC:                                  3.369e+04\n",
              "Df Model:                           8                                                  \n",
              "Covariance Type:            nonrobust                                                  \n",
              "==============================================================================\n",
              "                 coef    std err          t      P>|t|      [0.025      0.975]\n",
              "------------------------------------------------------------------------------\n",
              "MedInc         0.5071      0.005    101.645      0.000       0.497       0.517\n",
              "HouseAge       0.0164      0.001     29.841      0.000       0.015       0.017\n",
              "AveRooms      -0.1721      0.007    -23.757      0.000      -0.186      -0.158\n",
              "AveBedrms      0.8081      0.035     23.416      0.000       0.740       0.876\n",
              "Population   1.48e-05   6.12e-06      2.418      0.016     2.8e-06    2.68e-05\n",
              "AveOccup      -0.0059      0.001     -5.963      0.000      -0.008      -0.004\n",
              "Latitude      -0.0633      0.004    -14.867      0.000      -0.072      -0.055\n",
              "Longitude     -0.0162      0.001    -11.987      0.000      -0.019      -0.014\n",
              "==============================================================================\n",
              "Omnibus:                     2967.936   Durbin-Watson:                   2.008\n",
              "Prob(Omnibus):                  0.000   Jarque-Bera (JB):            10128.918\n",
              "Skew:                           1.024   Prob(JB):                         0.00\n",
              "Kurtosis:                       6.554   Cond. No.                     9.92e+03\n",
              "==============================================================================\n",
              "\n",
              "Warnings:\n",
              "[1] Standard Errors assume that the covariance matrix of the errors is correctly specified.\n",
              "[2] The condition number is large, 9.92e+03. This might indicate that there are\n",
              "strong multicollinearity or other numerical problems.\n",
              "\"\"\""
            ]
          },
          "metadata": {
            "tags": []
          }
        }
      ]
    },
    {
      "cell_type": "markdown",
      "metadata": {
        "id": "GrXmw-k_mRnh"
      },
      "source": [
        "#### 예측 값 도출 및 예측 성능 평가"
      ]
    },
    {
      "cell_type": "code",
      "metadata": {
        "colab": {
          "base_uri": "https://localhost:8080/",
          "height": 436
        },
        "id": "RfU8fFLEmMFQ",
        "outputId": "50587950-cf26-4418-a251-48b96e1150a4"
      },
      "source": [
        "train_data"
      ],
      "execution_count": null,
      "outputs": [
        {
          "output_type": "execute_result",
          "data": {
            "text/html": [
              "<div>\n",
              "<style scoped>\n",
              "    .dataframe tbody tr th:only-of-type {\n",
              "        vertical-align: middle;\n",
              "    }\n",
              "\n",
              "    .dataframe tbody tr th {\n",
              "        vertical-align: top;\n",
              "    }\n",
              "\n",
              "    .dataframe thead th {\n",
              "        text-align: right;\n",
              "    }\n",
              "</style>\n",
              "<table border=\"1\" class=\"dataframe\">\n",
              "  <thead>\n",
              "    <tr style=\"text-align: right;\">\n",
              "      <th></th>\n",
              "      <th>MedInc</th>\n",
              "      <th>HouseAge</th>\n",
              "      <th>AveRooms</th>\n",
              "      <th>AveBedrms</th>\n",
              "      <th>Population</th>\n",
              "      <th>AveOccup</th>\n",
              "      <th>Latitude</th>\n",
              "      <th>Longitude</th>\n",
              "      <th>House Value</th>\n",
              "    </tr>\n",
              "  </thead>\n",
              "  <tbody>\n",
              "    <tr>\n",
              "      <th>9795</th>\n",
              "      <td>6.5234</td>\n",
              "      <td>18.0</td>\n",
              "      <td>7.292627</td>\n",
              "      <td>1.228111</td>\n",
              "      <td>1312.0</td>\n",
              "      <td>3.023041</td>\n",
              "      <td>36.52</td>\n",
              "      <td>-121.84</td>\n",
              "      <td>3.574</td>\n",
              "    </tr>\n",
              "    <tr>\n",
              "      <th>10164</th>\n",
              "      <td>4.4375</td>\n",
              "      <td>24.0</td>\n",
              "      <td>5.791304</td>\n",
              "      <td>1.095652</td>\n",
              "      <td>625.0</td>\n",
              "      <td>2.717391</td>\n",
              "      <td>33.89</td>\n",
              "      <td>-117.96</td>\n",
              "      <td>3.341</td>\n",
              "    </tr>\n",
              "    <tr>\n",
              "      <th>4647</th>\n",
              "      <td>2.1435</td>\n",
              "      <td>52.0</td>\n",
              "      <td>2.809524</td>\n",
              "      <td>1.000000</td>\n",
              "      <td>1920.0</td>\n",
              "      <td>2.539683</td>\n",
              "      <td>34.06</td>\n",
              "      <td>-118.31</td>\n",
              "      <td>3.289</td>\n",
              "    </tr>\n",
              "    <tr>\n",
              "      <th>16452</th>\n",
              "      <td>2.1979</td>\n",
              "      <td>52.0</td>\n",
              "      <td>4.804444</td>\n",
              "      <td>1.142222</td>\n",
              "      <td>437.0</td>\n",
              "      <td>1.942222</td>\n",
              "      <td>38.13</td>\n",
              "      <td>-121.27</td>\n",
              "      <td>1.141</td>\n",
              "    </tr>\n",
              "    <tr>\n",
              "      <th>11613</th>\n",
              "      <td>4.8000</td>\n",
              "      <td>21.0</td>\n",
              "      <td>4.603774</td>\n",
              "      <td>1.056604</td>\n",
              "      <td>1215.0</td>\n",
              "      <td>2.547170</td>\n",
              "      <td>33.80</td>\n",
              "      <td>-118.06</td>\n",
              "      <td>1.969</td>\n",
              "    </tr>\n",
              "    <tr>\n",
              "      <th>...</th>\n",
              "      <td>...</td>\n",
              "      <td>...</td>\n",
              "      <td>...</td>\n",
              "      <td>...</td>\n",
              "      <td>...</td>\n",
              "      <td>...</td>\n",
              "      <td>...</td>\n",
              "      <td>...</td>\n",
              "      <td>...</td>\n",
              "    </tr>\n",
              "    <tr>\n",
              "      <th>879</th>\n",
              "      <td>3.8179</td>\n",
              "      <td>24.0</td>\n",
              "      <td>5.115768</td>\n",
              "      <td>0.968064</td>\n",
              "      <td>1174.0</td>\n",
              "      <td>2.343313</td>\n",
              "      <td>37.56</td>\n",
              "      <td>-122.01</td>\n",
              "      <td>2.161</td>\n",
              "    </tr>\n",
              "    <tr>\n",
              "      <th>13751</th>\n",
              "      <td>5.0227</td>\n",
              "      <td>9.0</td>\n",
              "      <td>6.269565</td>\n",
              "      <td>0.952174</td>\n",
              "      <td>633.0</td>\n",
              "      <td>2.752174</td>\n",
              "      <td>34.05</td>\n",
              "      <td>-117.15</td>\n",
              "      <td>1.623</td>\n",
              "    </tr>\n",
              "    <tr>\n",
              "      <th>8520</th>\n",
              "      <td>2.6091</td>\n",
              "      <td>21.0</td>\n",
              "      <td>3.783954</td>\n",
              "      <td>1.136963</td>\n",
              "      <td>5546.0</td>\n",
              "      <td>3.178223</td>\n",
              "      <td>33.90</td>\n",
              "      <td>-118.33</td>\n",
              "      <td>1.639</td>\n",
              "    </tr>\n",
              "    <tr>\n",
              "      <th>1727</th>\n",
              "      <td>0.7403</td>\n",
              "      <td>37.0</td>\n",
              "      <td>4.491429</td>\n",
              "      <td>1.148571</td>\n",
              "      <td>1046.0</td>\n",
              "      <td>2.988571</td>\n",
              "      <td>37.96</td>\n",
              "      <td>-122.37</td>\n",
              "      <td>0.686</td>\n",
              "    </tr>\n",
              "    <tr>\n",
              "      <th>14245</th>\n",
              "      <td>1.5057</td>\n",
              "      <td>42.0</td>\n",
              "      <td>4.314655</td>\n",
              "      <td>1.051724</td>\n",
              "      <td>1505.0</td>\n",
              "      <td>3.243534</td>\n",
              "      <td>32.70</td>\n",
              "      <td>-117.10</td>\n",
              "      <td>0.863</td>\n",
              "    </tr>\n",
              "  </tbody>\n",
              "</table>\n",
              "<p>14448 rows × 9 columns</p>\n",
              "</div>"
            ],
            "text/plain": [
              "       MedInc  HouseAge  AveRooms  ...  Latitude  Longitude  House Value\n",
              "9795   6.5234      18.0  7.292627  ...     36.52    -121.84        3.574\n",
              "10164  4.4375      24.0  5.791304  ...     33.89    -117.96        3.341\n",
              "4647   2.1435      52.0  2.809524  ...     34.06    -118.31        3.289\n",
              "16452  2.1979      52.0  4.804444  ...     38.13    -121.27        1.141\n",
              "11613  4.8000      21.0  4.603774  ...     33.80    -118.06        1.969\n",
              "...       ...       ...       ...  ...       ...        ...          ...\n",
              "879    3.8179      24.0  5.115768  ...     37.56    -122.01        2.161\n",
              "13751  5.0227       9.0  6.269565  ...     34.05    -117.15        1.623\n",
              "8520   2.6091      21.0  3.783954  ...     33.90    -118.33        1.639\n",
              "1727   0.7403      37.0  4.491429  ...     37.96    -122.37        0.686\n",
              "14245  1.5057      42.0  4.314655  ...     32.70    -117.10        0.863\n",
              "\n",
              "[14448 rows x 9 columns]"
            ]
          },
          "metadata": {
            "tags": []
          },
          "execution_count": 26
        }
      ]
    },
    {
      "cell_type": "code",
      "metadata": {
        "id": "pm02aCC2mVbO"
      },
      "source": [
        "train_pred = lm_trained.predict(train_data.drop(['House Value'], axis =1))"
      ],
      "execution_count": null,
      "outputs": []
    },
    {
      "cell_type": "code",
      "metadata": {
        "colab": {
          "base_uri": "https://localhost:8080/"
        },
        "id": "UL3J4PvQmdQP",
        "outputId": "8d58dd8c-3ed7-4b1e-d8fe-47b0d9056267"
      },
      "source": [
        "train_pred"
      ],
      "execution_count": null,
      "outputs": [
        {
          "output_type": "execute_result",
          "data": {
            "text/plain": [
              "9795     3.000859\n",
              "10164    2.288211\n",
              "4647     2.034998\n",
              "16452    1.605928\n",
              "11613    2.612775\n",
              "           ...   \n",
              "879      1.830746\n",
              "13751    2.117512\n",
              "8520     1.766321\n",
              "1727     0.711405\n",
              "14245    1.386619\n",
              "Length: 14448, dtype: float64"
            ]
          },
          "metadata": {
            "tags": []
          },
          "execution_count": 28
        }
      ]
    },
    {
      "cell_type": "code",
      "metadata": {
        "colab": {
          "base_uri": "https://localhost:8080/",
          "height": 426
        },
        "id": "UIMQj9e1mevU",
        "outputId": "ea3b69b4-41e8-4cdc-a606-38bd3e9044fb"
      },
      "source": [
        "plt.figure(figsize=(6,6))\n",
        "plt.title('actual value vs. predict value')\n",
        "plt.scatter(train_data['House Value'], train_pred)\n",
        "plt.xlabel('actual value', size = 16)\n",
        "plt.ylabel('predict value', size = 16)\n"
      ],
      "execution_count": null,
      "outputs": [
        {
          "output_type": "execute_result",
          "data": {
            "text/plain": [
              "Text(0, 0.5, 'predict value')"
            ]
          },
          "metadata": {
            "tags": []
          },
          "execution_count": 36
        },
        {
          "output_type": "display_data",
          "data": {
            "image/png": "[encoded data removed]",
            "text/plain": [
              "<Figure size 432x432 with 1 Axes>"
            ]
          },
          "metadata": {
            "tags": [],
            "needs_background": "light"
          }
        }
      ]
    },
    {
      "cell_type": "code",
      "metadata": {
        "id": "XlHNM4Gzmy-b"
      },
      "source": [
        "from sklearn.metrics import mean_squared_error\n",
        "from sklearn.metrics import mean_absolute_error\n",
        "from sklearn.metrics import r2_score\n",
        "\n",
        "def mean_absolute_percentage_error(y_true, y_pred):\n",
        "  y_true, y_pred = np.array(y_true), np.array(y_pred)\n",
        "  return np.mean(np.abs((y_true - y_pred)/y_true)*100)"
      ],
      "execution_count": null,
      "outputs": []
    },
    {
      "cell_type": "code",
      "metadata": {
        "colab": {
          "base_uri": "https://localhost:8080/"
        },
        "id": "1fDLPn05nM_a",
        "outputId": "89507e5a-742f-4147-befe-04ea85866185"
      },
      "source": [
        "print('Training MSE: {:.3f}'.format(mean_squared_error(train_data['House Value'], train_pred)))\n",
        "print('Training RMSE: {:.3f}'.format(np.sqrt(mean_squared_error(train_data['House Value'], train_pred))))\n",
        "print('Training MAE: {:.3f}'.format(mean_absolute_error(train_data['House Value'], train_pred)))\n",
        "print('Training MAPE: {:.3f}'.format(mean_absolute_percentage_error(train_data['House Value'], train_pred)))\n",
        "print('Training R2: {:.3f}'.format(r2_score(train_data['House Value'], train_pred)))"
      ],
      "execution_count": null,
      "outputs": [
        {
          "output_type": "stream",
          "text": [
            "Training MSE: 0.600\n",
            "Training RMSE: 0.775\n",
            "Training MAE: 0.572\n",
            "Training MAPE: 34.807\n",
            "Training R2: 0.552\n"
          ],
          "name": "stdout"
        }
      ]
    },
    {
      "cell_type": "markdown",
      "metadata": {
        "id": "UIOIDPA1oIrd"
      },
      "source": [
        "#### 테스트 데이터에 대한 예측 성능 평가"
      ]
    },
    {
      "cell_type": "code",
      "metadata": {
        "colab": {
          "base_uri": "https://localhost:8080/",
          "height": 436
        },
        "id": "-b5p3Ta7nUNy",
        "outputId": "16cc389a-e6ea-453e-86cf-6c7f4097d131"
      },
      "source": [
        "test_data"
      ],
      "execution_count": null,
      "outputs": [
        {
          "output_type": "execute_result",
          "data": {
            "text/html": [
              "<div>\n",
              "<style scoped>\n",
              "    .dataframe tbody tr th:only-of-type {\n",
              "        vertical-align: middle;\n",
              "    }\n",
              "\n",
              "    .dataframe tbody tr th {\n",
              "        vertical-align: top;\n",
              "    }\n",
              "\n",
              "    .dataframe thead th {\n",
              "        text-align: right;\n",
              "    }\n",
              "</style>\n",
              "<table border=\"1\" class=\"dataframe\">\n",
              "  <thead>\n",
              "    <tr style=\"text-align: right;\">\n",
              "      <th></th>\n",
              "      <th>MedInc</th>\n",
              "      <th>HouseAge</th>\n",
              "      <th>AveRooms</th>\n",
              "      <th>AveBedrms</th>\n",
              "      <th>Population</th>\n",
              "      <th>AveOccup</th>\n",
              "      <th>Latitude</th>\n",
              "      <th>Longitude</th>\n",
              "      <th>House Value</th>\n",
              "    </tr>\n",
              "  </thead>\n",
              "  <tbody>\n",
              "    <tr>\n",
              "      <th>4051</th>\n",
              "      <td>3.2241</td>\n",
              "      <td>28.0</td>\n",
              "      <td>4.188377</td>\n",
              "      <td>1.139613</td>\n",
              "      <td>2549.0</td>\n",
              "      <td>1.702739</td>\n",
              "      <td>34.15</td>\n",
              "      <td>-118.43</td>\n",
              "      <td>2.958</td>\n",
              "    </tr>\n",
              "    <tr>\n",
              "      <th>17595</th>\n",
              "      <td>3.3682</td>\n",
              "      <td>40.0</td>\n",
              "      <td>6.045902</td>\n",
              "      <td>1.114754</td>\n",
              "      <td>719.0</td>\n",
              "      <td>2.357377</td>\n",
              "      <td>37.31</td>\n",
              "      <td>-121.89</td>\n",
              "      <td>2.352</td>\n",
              "    </tr>\n",
              "    <tr>\n",
              "      <th>7100</th>\n",
              "      <td>5.6454</td>\n",
              "      <td>33.0</td>\n",
              "      <td>5.642298</td>\n",
              "      <td>1.000000</td>\n",
              "      <td>1235.0</td>\n",
              "      <td>3.224543</td>\n",
              "      <td>33.90</td>\n",
              "      <td>-117.99</td>\n",
              "      <td>2.028</td>\n",
              "    </tr>\n",
              "    <tr>\n",
              "      <th>7263</th>\n",
              "      <td>2.1912</td>\n",
              "      <td>37.0</td>\n",
              "      <td>2.423077</td>\n",
              "      <td>1.128205</td>\n",
              "      <td>714.0</td>\n",
              "      <td>4.576923</td>\n",
              "      <td>33.99</td>\n",
              "      <td>-118.23</td>\n",
              "      <td>1.125</td>\n",
              "    </tr>\n",
              "    <tr>\n",
              "      <th>12717</th>\n",
              "      <td>5.8336</td>\n",
              "      <td>36.0</td>\n",
              "      <td>7.460000</td>\n",
              "      <td>0.960000</td>\n",
              "      <td>414.0</td>\n",
              "      <td>2.760000</td>\n",
              "      <td>38.60</td>\n",
              "      <td>-121.37</td>\n",
              "      <td>2.833</td>\n",
              "    </tr>\n",
              "    <tr>\n",
              "      <th>...</th>\n",
              "      <td>...</td>\n",
              "      <td>...</td>\n",
              "      <td>...</td>\n",
              "      <td>...</td>\n",
              "      <td>...</td>\n",
              "      <td>...</td>\n",
              "      <td>...</td>\n",
              "      <td>...</td>\n",
              "      <td>...</td>\n",
              "    </tr>\n",
              "    <tr>\n",
              "      <th>17647</th>\n",
              "      <td>3.5625</td>\n",
              "      <td>32.0</td>\n",
              "      <td>5.016373</td>\n",
              "      <td>1.103275</td>\n",
              "      <td>1989.0</td>\n",
              "      <td>2.505038</td>\n",
              "      <td>37.26</td>\n",
              "      <td>-121.91</td>\n",
              "      <td>2.552</td>\n",
              "    </tr>\n",
              "    <tr>\n",
              "      <th>16862</th>\n",
              "      <td>4.2262</td>\n",
              "      <td>37.0</td>\n",
              "      <td>4.362369</td>\n",
              "      <td>0.958188</td>\n",
              "      <td>878.0</td>\n",
              "      <td>3.059233</td>\n",
              "      <td>37.63</td>\n",
              "      <td>-122.41</td>\n",
              "      <td>2.285</td>\n",
              "    </tr>\n",
              "    <tr>\n",
              "      <th>16615</th>\n",
              "      <td>3.6908</td>\n",
              "      <td>23.0</td>\n",
              "      <td>7.406475</td>\n",
              "      <td>1.273381</td>\n",
              "      <td>636.0</td>\n",
              "      <td>2.287770</td>\n",
              "      <td>35.40</td>\n",
              "      <td>-120.92</td>\n",
              "      <td>2.788</td>\n",
              "    </tr>\n",
              "    <tr>\n",
              "      <th>6435</th>\n",
              "      <td>3.5625</td>\n",
              "      <td>43.0</td>\n",
              "      <td>5.647416</td>\n",
              "      <td>1.048632</td>\n",
              "      <td>1054.0</td>\n",
              "      <td>3.203647</td>\n",
              "      <td>34.11</td>\n",
              "      <td>-118.01</td>\n",
              "      <td>2.116</td>\n",
              "    </tr>\n",
              "    <tr>\n",
              "      <th>17715</th>\n",
              "      <td>5.6140</td>\n",
              "      <td>15.0</td>\n",
              "      <td>5.854737</td>\n",
              "      <td>1.048421</td>\n",
              "      <td>1389.0</td>\n",
              "      <td>2.924211</td>\n",
              "      <td>37.35</td>\n",
              "      <td>-121.80</td>\n",
              "      <td>2.233</td>\n",
              "    </tr>\n",
              "  </tbody>\n",
              "</table>\n",
              "<p>6192 rows × 9 columns</p>\n",
              "</div>"
            ],
            "text/plain": [
              "       MedInc  HouseAge  AveRooms  ...  Latitude  Longitude  House Value\n",
              "4051   3.2241      28.0  4.188377  ...     34.15    -118.43        2.958\n",
              "17595  3.3682      40.0  6.045902  ...     37.31    -121.89        2.352\n",
              "7100   5.6454      33.0  5.642298  ...     33.90    -117.99        2.028\n",
              "7263   2.1912      37.0  2.423077  ...     33.99    -118.23        1.125\n",
              "12717  5.8336      36.0  7.460000  ...     38.60    -121.37        2.833\n",
              "...       ...       ...       ...  ...       ...        ...          ...\n",
              "17647  3.5625      32.0  5.016373  ...     37.26    -121.91        2.552\n",
              "16862  4.2262      37.0  4.362369  ...     37.63    -122.41        2.285\n",
              "16615  3.6908      23.0  7.406475  ...     35.40    -120.92        2.788\n",
              "6435   3.5625      43.0  5.647416  ...     34.11    -118.01        2.116\n",
              "17715  5.6140      15.0  5.854737  ...     37.35    -121.80        2.233\n",
              "\n",
              "[6192 rows x 9 columns]"
            ]
          },
          "metadata": {
            "tags": []
          },
          "execution_count": 39
        }
      ]
    },
    {
      "cell_type": "code",
      "metadata": {
        "id": "n97dVFTUoL7G"
      },
      "source": [
        "test_pred = lm_trained.predict(test_data.drop(['House Value'], axis = 1))"
      ],
      "execution_count": null,
      "outputs": []
    },
    {
      "cell_type": "code",
      "metadata": {
        "id": "HrV7JIiQoSRE",
        "colab": {
          "base_uri": "https://localhost:8080/",
          "height": 221
        },
        "outputId": "6cb9bfdf-bb72-4e81-81a2-1e1233067492"
      },
      "source": [
        "display(test_pred)"
      ],
      "execution_count": null,
      "outputs": [
        {
          "output_type": "display_data",
          "data": {
            "text/plain": [
              "4051     2.075514\n",
              "17595    1.830442\n",
              "7100     3.002480\n",
              "7263     1.956814\n",
              "12717    2.549611\n",
              "           ...   \n",
              "17647    1.987220\n",
              "16862    2.366030\n",
              "16615    1.713752\n",
              "6435     2.133077\n",
              "17715    2.541404\n",
              "Length: 6192, dtype: float64"
            ]
          },
          "metadata": {
            "tags": []
          }
        }
      ]
    },
    {
      "cell_type": "code",
      "metadata": {
        "id": "KGUXUE2NoT5x",
        "colab": {
          "base_uri": "https://localhost:8080/",
          "height": 494
        },
        "outputId": "4dade5d7-02ed-4b5e-fe51-19b247da589b"
      },
      "source": [
        "plt.figure(figsize=(6,6))\n",
        "plt.title('actual value vs. predict value')\n",
        "plt.scatter(train_data['House Value'], train_pred)\n",
        "plt.xlabel('actual value', size = 16)\n",
        "plt.ylabel('predict value', size = 16)\n",
        "\n",
        "plt.show()\n",
        "\n",
        "print('Testing MSE: {:.3f}'.format(mean_squared_error(test_data['House Value'], test_pred)))\n",
        "print('Testing RMSE: {:.3f}'.format(np.sqrt(mean_squared_error(test_data['House Value'], test_pred))))\n",
        "print('Testing MAE: {:.3f}'.format(mean_absolute_error(test_data['House Value'], test_pred)))\n",
        "print('Testing MAPE: {:.3f}'.format(mean_absolute_percentage_error(test_data['House Value'], test_pred)))\n",
        "print('Testing R2: {:.3f}'.format(r2_score(test_data['House Value'], test_pred)))"
      ],
      "execution_count": 42,
      "outputs": [
        {
          "output_type": "display_data",
          "data": {
            "image/png": "[encoded data removed]",
            "text/plain": [
              "<Figure size 432x432 with 1 Axes>"
            ]
          },
          "metadata": {
            "tags": [],
            "needs_background": "light"
          }
        },
        {
          "output_type": "stream",
          "text": [
            "Testing MSE: 0.616\n",
            "Testing RMSE: 0.785\n",
            "Testing MAE: 0.576\n",
            "Testing MAPE: 34.388\n",
            "Testing R2: 0.532\n"
          ],
          "name": "stdout"
        }
      ]
    },
    {
      "cell_type": "code",
      "metadata": {
        "id": "ODZaEdo8o7eL"
      },
      "source": [
        ""
      ],
      "execution_count": null,
      "outputs": []
    }
  ]
}